{
 "cells": [
  {
   "cell_type": "markdown",
   "metadata": {},
   "source": [
    "This notebook contains solving the classification problem for the Severity of collisions Data for IBM capstone course."
   ]
  },
  {
   "cell_type": "code",
   "execution_count": 653,
   "metadata": {},
   "outputs": [],
   "source": [
    "import pandas as pd\n",
    "import numpy as np\n",
    "import warnings\n",
    "warnings.filterwarnings(\"ignore\") \n",
    "import time\n",
    "import math\n",
    "import matplotlib.pyplot as plt\n",
    "import seaborn as sns\n",
    "# from matplotlib import ticker \n",
    "%matplotlib inline\n",
    "from sklearn.svm import SVC\n",
    "from sklearn import svm\n",
    "from sklearn.ensemble import RandomForestClassifier\n",
    "from sklearn import linear_model\n",
    "from sklearn.linear_model import LogisticRegression\n",
    "from sklearn.tree import DecisionTreeClassifier\n",
    "from sklearn import neighbors\n",
    "from sklearn.model_selection import train_test_split\n",
    "from sklearn.decomposition import PCA\n",
    "from sklearn.neighbors import KNeighborsClassifier\n",
    "from sklearn.metrics import roc_auc_score"
   ]
  },
  {
   "cell_type": "markdown",
   "metadata": {},
   "source": [
    "### Reading data"
   ]
  },
  {
   "cell_type": "code",
   "execution_count": 654,
   "metadata": {
    "scrolled": false
   },
   "outputs": [
    {
     "data": {
      "text/html": [
       "<div>\n",
       "<style scoped>\n",
       "    .dataframe tbody tr th:only-of-type {\n",
       "        vertical-align: middle;\n",
       "    }\n",
       "\n",
       "    .dataframe tbody tr th {\n",
       "        vertical-align: top;\n",
       "    }\n",
       "\n",
       "    .dataframe thead th {\n",
       "        text-align: right;\n",
       "    }\n",
       "</style>\n",
       "<table border=\"1\" class=\"dataframe\">\n",
       "  <thead>\n",
       "    <tr style=\"text-align: right;\">\n",
       "      <th></th>\n",
       "      <th>SEVERITYCODE</th>\n",
       "      <th>X</th>\n",
       "      <th>Y</th>\n",
       "      <th>OBJECTID</th>\n",
       "      <th>INCKEY</th>\n",
       "      <th>COLDETKEY</th>\n",
       "      <th>REPORTNO</th>\n",
       "      <th>STATUS</th>\n",
       "      <th>ADDRTYPE</th>\n",
       "      <th>INTKEY</th>\n",
       "      <th>...</th>\n",
       "      <th>ROADCOND</th>\n",
       "      <th>LIGHTCOND</th>\n",
       "      <th>PEDROWNOTGRNT</th>\n",
       "      <th>SDOTCOLNUM</th>\n",
       "      <th>SPEEDING</th>\n",
       "      <th>ST_COLCODE</th>\n",
       "      <th>ST_COLDESC</th>\n",
       "      <th>SEGLANEKEY</th>\n",
       "      <th>CROSSWALKKEY</th>\n",
       "      <th>HITPARKEDCAR</th>\n",
       "    </tr>\n",
       "  </thead>\n",
       "  <tbody>\n",
       "    <tr>\n",
       "      <th>0</th>\n",
       "      <td>2</td>\n",
       "      <td>-122.323148</td>\n",
       "      <td>47.703140</td>\n",
       "      <td>1</td>\n",
       "      <td>1307</td>\n",
       "      <td>1307</td>\n",
       "      <td>3502005</td>\n",
       "      <td>Matched</td>\n",
       "      <td>Intersection</td>\n",
       "      <td>37475.0</td>\n",
       "      <td>...</td>\n",
       "      <td>Wet</td>\n",
       "      <td>Daylight</td>\n",
       "      <td>NaN</td>\n",
       "      <td>NaN</td>\n",
       "      <td>NaN</td>\n",
       "      <td>10</td>\n",
       "      <td>Entering at angle</td>\n",
       "      <td>0</td>\n",
       "      <td>0</td>\n",
       "      <td>N</td>\n",
       "    </tr>\n",
       "    <tr>\n",
       "      <th>1</th>\n",
       "      <td>1</td>\n",
       "      <td>-122.347294</td>\n",
       "      <td>47.647172</td>\n",
       "      <td>2</td>\n",
       "      <td>52200</td>\n",
       "      <td>52200</td>\n",
       "      <td>2607959</td>\n",
       "      <td>Matched</td>\n",
       "      <td>Block</td>\n",
       "      <td>NaN</td>\n",
       "      <td>...</td>\n",
       "      <td>Wet</td>\n",
       "      <td>Dark - Street Lights On</td>\n",
       "      <td>NaN</td>\n",
       "      <td>6354039.0</td>\n",
       "      <td>NaN</td>\n",
       "      <td>11</td>\n",
       "      <td>From same direction - both going straight - bo...</td>\n",
       "      <td>0</td>\n",
       "      <td>0</td>\n",
       "      <td>N</td>\n",
       "    </tr>\n",
       "    <tr>\n",
       "      <th>2</th>\n",
       "      <td>1</td>\n",
       "      <td>-122.334540</td>\n",
       "      <td>47.607871</td>\n",
       "      <td>3</td>\n",
       "      <td>26700</td>\n",
       "      <td>26700</td>\n",
       "      <td>1482393</td>\n",
       "      <td>Matched</td>\n",
       "      <td>Block</td>\n",
       "      <td>NaN</td>\n",
       "      <td>...</td>\n",
       "      <td>Dry</td>\n",
       "      <td>Daylight</td>\n",
       "      <td>NaN</td>\n",
       "      <td>4323031.0</td>\n",
       "      <td>NaN</td>\n",
       "      <td>32</td>\n",
       "      <td>One parked--one moving</td>\n",
       "      <td>0</td>\n",
       "      <td>0</td>\n",
       "      <td>N</td>\n",
       "    </tr>\n",
       "    <tr>\n",
       "      <th>3</th>\n",
       "      <td>1</td>\n",
       "      <td>-122.334803</td>\n",
       "      <td>47.604803</td>\n",
       "      <td>4</td>\n",
       "      <td>1144</td>\n",
       "      <td>1144</td>\n",
       "      <td>3503937</td>\n",
       "      <td>Matched</td>\n",
       "      <td>Block</td>\n",
       "      <td>NaN</td>\n",
       "      <td>...</td>\n",
       "      <td>Dry</td>\n",
       "      <td>Daylight</td>\n",
       "      <td>NaN</td>\n",
       "      <td>NaN</td>\n",
       "      <td>NaN</td>\n",
       "      <td>23</td>\n",
       "      <td>From same direction - all others</td>\n",
       "      <td>0</td>\n",
       "      <td>0</td>\n",
       "      <td>N</td>\n",
       "    </tr>\n",
       "    <tr>\n",
       "      <th>4</th>\n",
       "      <td>2</td>\n",
       "      <td>-122.306426</td>\n",
       "      <td>47.545739</td>\n",
       "      <td>5</td>\n",
       "      <td>17700</td>\n",
       "      <td>17700</td>\n",
       "      <td>1807429</td>\n",
       "      <td>Matched</td>\n",
       "      <td>Intersection</td>\n",
       "      <td>34387.0</td>\n",
       "      <td>...</td>\n",
       "      <td>Wet</td>\n",
       "      <td>Daylight</td>\n",
       "      <td>NaN</td>\n",
       "      <td>4028032.0</td>\n",
       "      <td>NaN</td>\n",
       "      <td>10</td>\n",
       "      <td>Entering at angle</td>\n",
       "      <td>0</td>\n",
       "      <td>0</td>\n",
       "      <td>N</td>\n",
       "    </tr>\n",
       "  </tbody>\n",
       "</table>\n",
       "<p>5 rows × 38 columns</p>\n",
       "</div>"
      ],
      "text/plain": [
       "   SEVERITYCODE           X          Y  OBJECTID  INCKEY  COLDETKEY REPORTNO  \\\n",
       "0             2 -122.323148  47.703140         1    1307       1307  3502005   \n",
       "1             1 -122.347294  47.647172         2   52200      52200  2607959   \n",
       "2             1 -122.334540  47.607871         3   26700      26700  1482393   \n",
       "3             1 -122.334803  47.604803         4    1144       1144  3503937   \n",
       "4             2 -122.306426  47.545739         5   17700      17700  1807429   \n",
       "\n",
       "    STATUS      ADDRTYPE   INTKEY  ... ROADCOND                LIGHTCOND  \\\n",
       "0  Matched  Intersection  37475.0  ...      Wet                 Daylight   \n",
       "1  Matched         Block      NaN  ...      Wet  Dark - Street Lights On   \n",
       "2  Matched         Block      NaN  ...      Dry                 Daylight   \n",
       "3  Matched         Block      NaN  ...      Dry                 Daylight   \n",
       "4  Matched  Intersection  34387.0  ...      Wet                 Daylight   \n",
       "\n",
       "  PEDROWNOTGRNT  SDOTCOLNUM SPEEDING ST_COLCODE  \\\n",
       "0           NaN         NaN      NaN         10   \n",
       "1           NaN   6354039.0      NaN         11   \n",
       "2           NaN   4323031.0      NaN         32   \n",
       "3           NaN         NaN      NaN         23   \n",
       "4           NaN   4028032.0      NaN         10   \n",
       "\n",
       "                                          ST_COLDESC  SEGLANEKEY  \\\n",
       "0                                  Entering at angle           0   \n",
       "1  From same direction - both going straight - bo...           0   \n",
       "2                             One parked--one moving           0   \n",
       "3                   From same direction - all others           0   \n",
       "4                                  Entering at angle           0   \n",
       "\n",
       "   CROSSWALKKEY  HITPARKEDCAR  \n",
       "0             0             N  \n",
       "1             0             N  \n",
       "2             0             N  \n",
       "3             0             N  \n",
       "4             0             N  \n",
       "\n",
       "[5 rows x 38 columns]"
      ]
     },
     "execution_count": 654,
     "metadata": {},
     "output_type": "execute_result"
    }
   ],
   "source": [
    "df=pd.read_csv('E:\\IBM capstone course\\Data-Collisions.csv',dtype={'SPEEDING':object})\n",
    "df.head()"
   ]
  },
  {
   "cell_type": "markdown",
   "metadata": {},
   "source": [
    "### Choosing features that will be used in the problem"
   ]
  },
  {
   "cell_type": "code",
   "execution_count": 655,
   "metadata": {
    "scrolled": false
   },
   "outputs": [],
   "source": [
    "df=df[['SEVERITYCODE','ADDRTYPE','COLLISIONTYPE','PERSONCOUNT','PEDCOUNT','PEDCYLCOUNT','VEHCOUNT','INATTENTIONIND',\n",
    "       'UNDERINFL','WEATHER','ROADCOND','LIGHTCOND','PEDROWNOTGRNT','SPEEDING','HITPARKEDCAR']]"
   ]
  },
  {
   "cell_type": "markdown",
   "metadata": {},
   "source": [
    "### Checking data types for each column and missing values"
   ]
  },
  {
   "cell_type": "code",
   "execution_count": 656,
   "metadata": {},
   "outputs": [
    {
     "name": "stdout",
     "output_type": "stream",
     "text": [
      "<class 'pandas.core.frame.DataFrame'>\n",
      "RangeIndex: 194673 entries, 0 to 194672\n",
      "Data columns (total 15 columns):\n",
      " #   Column          Non-Null Count   Dtype \n",
      "---  ------          --------------   ----- \n",
      " 0   SEVERITYCODE    194673 non-null  int64 \n",
      " 1   ADDRTYPE        192747 non-null  object\n",
      " 2   COLLISIONTYPE   189769 non-null  object\n",
      " 3   PERSONCOUNT     194673 non-null  int64 \n",
      " 4   PEDCOUNT        194673 non-null  int64 \n",
      " 5   PEDCYLCOUNT     194673 non-null  int64 \n",
      " 6   VEHCOUNT        194673 non-null  int64 \n",
      " 7   INATTENTIONIND  29805 non-null   object\n",
      " 8   UNDERINFL       189789 non-null  object\n",
      " 9   WEATHER         189592 non-null  object\n",
      " 10  ROADCOND        189661 non-null  object\n",
      " 11  LIGHTCOND       189503 non-null  object\n",
      " 12  PEDROWNOTGRNT   4667 non-null    object\n",
      " 13  SPEEDING        9333 non-null    object\n",
      " 14  HITPARKEDCAR    194673 non-null  object\n",
      "dtypes: int64(5), object(10)\n",
      "memory usage: 22.3+ MB\n"
     ]
    }
   ],
   "source": [
    "df.info()"
   ]
  },
  {
   "cell_type": "code",
   "execution_count": 657,
   "metadata": {
    "scrolled": true
   },
   "outputs": [
    {
     "name": "stdout",
     "output_type": "stream",
     "text": [
      "SEVERITYCODE\n",
      "1    136485\n",
      "2     58188\n",
      "Name: SEVERITYCODE, dtype: int64\n",
      "\n",
      "\n",
      "ADDRTYPE\n",
      "Block           126926\n",
      "Intersection     65070\n",
      "Alley              751\n",
      "Name: ADDRTYPE, dtype: int64\n",
      "\n",
      "\n",
      "COLLISIONTYPE\n",
      "Parked Car    47987\n",
      "Angles        34674\n",
      "Rear Ended    34090\n",
      "Other         23703\n",
      "Sideswipe     18609\n",
      "Left Turn     13703\n",
      "Pedestrian     6608\n",
      "Cycles         5415\n",
      "Right Turn     2956\n",
      "Head On        2024\n",
      "Name: COLLISIONTYPE, dtype: int64\n",
      "\n",
      "\n",
      "PERSONCOUNT\n",
      "2     114231\n",
      "3      35553\n",
      "4      14660\n",
      "1      13154\n",
      "5       6584\n",
      "0       5544\n",
      "6       2702\n",
      "7       1131\n",
      "8        533\n",
      "9        216\n",
      "10       128\n",
      "11        56\n",
      "12        33\n",
      "13        21\n",
      "14        19\n",
      "15        11\n",
      "17        11\n",
      "16         8\n",
      "44         6\n",
      "18         6\n",
      "20         6\n",
      "25         6\n",
      "19         5\n",
      "26         4\n",
      "22         4\n",
      "27         3\n",
      "28         3\n",
      "29         3\n",
      "47         3\n",
      "32         3\n",
      "34         3\n",
      "37         3\n",
      "23         2\n",
      "21         2\n",
      "24         2\n",
      "30         2\n",
      "36         2\n",
      "57         1\n",
      "31         1\n",
      "35         1\n",
      "39         1\n",
      "41         1\n",
      "43         1\n",
      "48         1\n",
      "53         1\n",
      "54         1\n",
      "81         1\n",
      "Name: PERSONCOUNT, dtype: int64\n",
      "\n",
      "\n",
      "PEDCOUNT\n",
      "0    187734\n",
      "1      6685\n",
      "2       226\n",
      "3        22\n",
      "4         4\n",
      "6         1\n",
      "5         1\n",
      "Name: PEDCOUNT, dtype: int64\n",
      "\n",
      "\n",
      "PEDCYLCOUNT\n",
      "0    189189\n",
      "1      5441\n",
      "2        43\n",
      "Name: PEDCYLCOUNT, dtype: int64\n",
      "\n",
      "\n",
      "VEHCOUNT\n",
      "2     147650\n",
      "1      25748\n",
      "3      13010\n",
      "0       5085\n",
      "4       2426\n",
      "5        529\n",
      "6        146\n",
      "7         46\n",
      "8         15\n",
      "9          9\n",
      "11         6\n",
      "10         2\n",
      "12         1\n",
      "Name: VEHCOUNT, dtype: int64\n",
      "\n",
      "\n",
      "INATTENTIONIND\n",
      "Y    29805\n",
      "Name: INATTENTIONIND, dtype: int64\n",
      "\n",
      "\n",
      "UNDERINFL\n",
      "N    100274\n",
      "0     80394\n",
      "Y      5126\n",
      "1      3995\n",
      "Name: UNDERINFL, dtype: int64\n",
      "\n",
      "\n",
      "WEATHER\n",
      "Clear                       111135\n",
      "Raining                      33145\n",
      "Overcast                     27714\n",
      "Unknown                      15091\n",
      "Snowing                        907\n",
      "Other                          832\n",
      "Fog/Smog/Smoke                 569\n",
      "Sleet/Hail/Freezing Rain       113\n",
      "Blowing Sand/Dirt               56\n",
      "Severe Crosswind                25\n",
      "Partly Cloudy                    5\n",
      "Name: WEATHER, dtype: int64\n",
      "\n",
      "\n",
      "ROADCOND\n",
      "Dry               124510\n",
      "Wet                47474\n",
      "Unknown            15078\n",
      "Ice                 1209\n",
      "Snow/Slush          1004\n",
      "Other                132\n",
      "Standing Water       115\n",
      "Sand/Mud/Dirt         75\n",
      "Oil                   64\n",
      "Name: ROADCOND, dtype: int64\n",
      "\n",
      "\n",
      "LIGHTCOND\n",
      "Daylight                    116137\n",
      "Dark - Street Lights On      48507\n",
      "Unknown                      13473\n",
      "Dusk                          5902\n",
      "Dawn                          2502\n",
      "Dark - No Street Lights       1537\n",
      "Dark - Street Lights Off      1199\n",
      "Other                          235\n",
      "Dark - Unknown Lighting         11\n",
      "Name: LIGHTCOND, dtype: int64\n",
      "\n",
      "\n",
      "PEDROWNOTGRNT\n",
      "Y    4667\n",
      "Name: PEDROWNOTGRNT, dtype: int64\n",
      "\n",
      "\n",
      "SPEEDING\n",
      "Y    9333\n",
      "Name: SPEEDING, dtype: int64\n",
      "\n",
      "\n",
      "HITPARKEDCAR\n",
      "N    187457\n",
      "Y      7216\n",
      "Name: HITPARKEDCAR, dtype: int64\n",
      "\n",
      "\n"
     ]
    }
   ],
   "source": [
    "for col in df.columns:\n",
    "    print(col)\n",
    "    print(df[col].value_counts())\n",
    "    print('\\n')\n",
    "    "
   ]
  },
  {
   "cell_type": "markdown",
   "metadata": {},
   "source": [
    "### Exploratory data analysis (EDA)"
   ]
  },
  {
   "cell_type": "code",
   "execution_count": 658,
   "metadata": {},
   "outputs": [
    {
     "data": {
      "text/plain": [
       "<seaborn.axisgrid.PairGrid at 0x14ac635dc88>"
      ]
     },
     "execution_count": 658,
     "metadata": {},
     "output_type": "execute_result"
    },
    {
     "data": {
      "image/png": "[encoded data removed]",
      "text/plain": [
       "<Figure size 720x720 with 20 Axes>"
      ]
     },
     "metadata": {
      "needs_background": "light"
     },
     "output_type": "display_data"
    }
   ],
   "source": [
    "sns.pairplot(df[['PERSONCOUNT','PEDCOUNT','PEDCYLCOUNT','VEHCOUNT']])"
   ]
  },
  {
   "cell_type": "code",
   "execution_count": 659,
   "metadata": {
    "scrolled": true
   },
   "outputs": [
    {
     "data": {
      "text/plain": [
       "<matplotlib.axes._subplots.AxesSubplot at 0x14aa4e18a20>"
      ]
     },
     "execution_count": 659,
     "metadata": {},
     "output_type": "execute_result"
    },
    {
     "data": {
      "image/png": "[encoded data removed]",
      "text/plain": [
       "<Figure size 432x288 with 1 Axes>"
      ]
     },
     "metadata": {
      "needs_background": "light"
     },
     "output_type": "display_data"
    }
   ],
   "source": [
    "sns.countplot(df['SEVERITYCODE'])"
   ]
  },
  {
   "cell_type": "markdown",
   "metadata": {},
   "source": [
    "The majority of the data had accident severity with proper damage (1), while the minority lead to injury (2)"
   ]
  },
  {
   "cell_type": "code",
   "execution_count": 660,
   "metadata": {},
   "outputs": [
    {
     "data": {
      "text/plain": [
       "<matplotlib.axes._subplots.AxesSubplot at 0x14aa4e087b8>"
      ]
     },
     "execution_count": 660,
     "metadata": {},
     "output_type": "execute_result"
    },
    {
     "data": {
      "image/png": "[encoded data removed]",
      "text/plain": [
       "<Figure size 432x288 with 1 Axes>"
      ]
     },
     "metadata": {
      "needs_background": "light"
     },
     "output_type": "display_data"
    }
   ],
   "source": [
    "sns.countplot(df['ADDRTYPE'])"
   ]
  },
  {
   "cell_type": "markdown",
   "metadata": {},
   "source": [
    "The majority collision address type is \"Block\" then \"Intersection\" while minimum in \"Alley\""
   ]
  },
  {
   "cell_type": "code",
   "execution_count": 661,
   "metadata": {
    "scrolled": false
   },
   "outputs": [
    {
     "data": {
      "text/plain": [
       "<matplotlib.axes._subplots.AxesSubplot at 0x14aa4f39d30>"
      ]
     },
     "execution_count": 661,
     "metadata": {},
     "output_type": "execute_result"
    },
    {
     "data": {
      "image/png": "[encoded data removed]",
      "text/plain": [
       "<Figure size 1296x432 with 1 Axes>"
      ]
     },
     "metadata": {
      "needs_background": "light"
     },
     "output_type": "display_data"
    }
   ],
   "source": [
    "plt.figure(figsize=(18,6))\n",
    "sns.countplot(df['COLLISIONTYPE'])"
   ]
  },
  {
   "cell_type": "markdown",
   "metadata": {},
   "source": [
    "There are nine collision types in the dataset. The three majority collision types are: \"Parked Car\", \"Rear Ended\" and \"Angles\""
   ]
  },
  {
   "cell_type": "code",
   "execution_count": 663,
   "metadata": {
    "scrolled": false
   },
   "outputs": [
    {
     "data": {
      "text/plain": [
       "<matplotlib.axes._subplots.AxesSubplot at 0x14aa4f2f470>"
      ]
     },
     "execution_count": 663,
     "metadata": {},
     "output_type": "execute_result"
    },
    {
     "data": {
      "image/png": "[encoded data removed]",
      "text/plain": [
       "<Figure size 1584x576 with 1 Axes>"
      ]
     },
     "metadata": {
      "needs_background": "light"
     },
     "output_type": "display_data"
    }
   ],
   "source": [
    "plt.figure(figsize=(22,8))\n",
    "sns.countplot(df['WEATHER'])"
   ]
  },
  {
   "cell_type": "markdown",
   "metadata": {},
   "source": [
    "There are nine different weather conditions in the dataset. The majority three weather conditions are: \"Clear\", \"Raining\" and \"Overcast\""
   ]
  },
  {
   "cell_type": "code",
   "execution_count": 666,
   "metadata": {},
   "outputs": [
    {
     "data": {
      "text/plain": [
       "<matplotlib.axes._subplots.AxesSubplot at 0x14ab28204a8>"
      ]
     },
     "execution_count": 666,
     "metadata": {},
     "output_type": "execute_result"
    },
    {
     "data": {
      "image/png": "[encoded data removed]",
      "text/plain": [
       "<Figure size 936x432 with 1 Axes>"
      ]
     },
     "metadata": {
      "needs_background": "light"
     },
     "output_type": "display_data"
    }
   ],
   "source": [
    "plt.figure(figsize=(13,6))\n",
    "\n",
    "sns.countplot(df['ROADCOND'])"
   ]
  },
  {
   "cell_type": "markdown",
   "metadata": {},
   "source": [
    "There are seven road conditions in the dataset. The majority conditions are the \"Dry\" and \"Wet\" road conditions."
   ]
  },
  {
   "cell_type": "code",
   "execution_count": 625,
   "metadata": {
    "scrolled": false
   },
   "outputs": [
    {
     "data": {
      "text/plain": [
       "<matplotlib.axes._subplots.AxesSubplot at 0x14aaa837518>"
      ]
     },
     "execution_count": 625,
     "metadata": {},
     "output_type": "execute_result"
    },
    {
     "data": {
      "image/png": "[encoded data removed]",
      "text/plain": [
       "<Figure size 1440x432 with 1 Axes>"
      ]
     },
     "metadata": {
      "needs_background": "light"
     },
     "output_type": "display_data"
    }
   ],
   "source": [
    "plt.figure(figsize=(20,6))\n",
    "sns.countplot(df['LIGHTCOND'])"
   ]
  },
  {
   "cell_type": "markdown",
   "metadata": {},
   "source": [
    "There are seven light conditions in the dataset. The majority conditions are the \"Daylight\" and \"Dark - Street Lights on\" light conditions."
   ]
  },
  {
   "cell_type": "code",
   "execution_count": 626,
   "metadata": {
    "scrolled": true
   },
   "outputs": [
    {
     "data": {
      "text/plain": [
       "<matplotlib.axes._subplots.AxesSubplot at 0x14aa758b160>"
      ]
     },
     "execution_count": 626,
     "metadata": {},
     "output_type": "execute_result"
    },
    {
     "data": {
      "image/png": "[encoded data removed]",
      "text/plain": [
       "<Figure size 432x288 with 1 Axes>"
      ]
     },
     "metadata": {
      "needs_background": "light"
     },
     "output_type": "display_data"
    }
   ],
   "source": [
    "sns.countplot(df['HITPARKEDCAR'])"
   ]
  },
  {
   "cell_type": "markdown",
   "metadata": {},
   "source": [
    "The majority of the collisions didn't involve hitting a parked car."
   ]
  },
  {
   "cell_type": "markdown",
   "metadata": {},
   "source": [
    "### Data Preprocessing "
   ]
  },
  {
   "cell_type": "markdown",
   "metadata": {},
   "source": [
    "Replacing missing values in \"ADDRTYPE\" column with the mode of the column: \"Block\""
   ]
  },
  {
   "cell_type": "code",
   "execution_count": 627,
   "metadata": {},
   "outputs": [
    {
     "name": "stdout",
     "output_type": "stream",
     "text": [
      "Block\n"
     ]
    }
   ],
   "source": [
    "df['ADDRTYPE'].fillna(df['ADDRTYPE'].mode()[0],inplace=True)\n",
    "print(df['ADDRTYPE'].mode()[0])"
   ]
  },
  {
   "cell_type": "markdown",
   "metadata": {},
   "source": [
    "Replacing missing values in \"COLLISIONTYPE\" colum with the mode of the column: \"Parked Car\""
   ]
  },
  {
   "cell_type": "code",
   "execution_count": 628,
   "metadata": {},
   "outputs": [
    {
     "name": "stdout",
     "output_type": "stream",
     "text": [
      "Parked Car\n"
     ]
    }
   ],
   "source": [
    "df['COLLISIONTYPE'].fillna(df['COLLISIONTYPE'].mode()[0],inplace=True)\n",
    "print(df['COLLISIONTYPE'].mode()[0])"
   ]
  },
  {
   "cell_type": "markdown",
   "metadata": {},
   "source": [
    "Replacing missing values in \"INATTENTIONIND\" colum with \"N\" and then mapping the Y to 1 and N to 0.\n",
    "The mojortiy of the collisions aren't due to inattention."
   ]
  },
  {
   "cell_type": "code",
   "execution_count": 629,
   "metadata": {
    "scrolled": true
   },
   "outputs": [
    {
     "data": {
      "text/plain": [
       "<matplotlib.axes._subplots.AxesSubplot at 0x14aaa80e588>"
      ]
     },
     "execution_count": 629,
     "metadata": {},
     "output_type": "execute_result"
    },
    {
     "data": {
      "image/png": "[encoded data removed]",
      "text/plain": [
       "<Figure size 432x288 with 1 Axes>"
      ]
     },
     "metadata": {
      "needs_background": "light"
     },
     "output_type": "display_data"
    }
   ],
   "source": [
    "df['INATTENTIONIND'].fillna('N',inplace=True)\n",
    "df['INATTENTIONIND']=df['INATTENTIONIND'].replace({'Y':1,'N':0})\n",
    "sns.countplot(df['INATTENTIONIND'])"
   ]
  },
  {
   "cell_type": "markdown",
   "metadata": {},
   "source": [
    "Mapping the Y to 1 and N to 0. Replacing missing values in \"UNDERINFL\" colum with the mode of the column: N (0). The majority of collisions weren't under the influence of drugs or alcoohol."
   ]
  },
  {
   "cell_type": "code",
   "execution_count": 640,
   "metadata": {
    "scrolled": true
   },
   "outputs": [
    {
     "name": "stdout",
     "output_type": "stream",
     "text": [
      "0\n"
     ]
    },
    {
     "data": {
      "text/plain": [
       "<matplotlib.axes._subplots.AxesSubplot at 0x14aad388cf8>"
      ]
     },
     "execution_count": 640,
     "metadata": {},
     "output_type": "execute_result"
    },
    {
     "data": {
      "image/png": "[encoded data removed]",
      "text/plain": [
       "<Figure size 432x288 with 1 Axes>"
      ]
     },
     "metadata": {
      "needs_background": "light"
     },
     "output_type": "display_data"
    }
   ],
   "source": [
    "df['UNDERINFL']=df['UNDERINFL'].replace({'Y':'1','N':'0'})\n",
    "df['UNDERINFL'].fillna(df['UNDERINFL'].mode()[0],inplace=True)\n",
    "print(df['UNDERINFL'].mode()[0])\n",
    "sns.countplot(df['UNDERINFL'])"
   ]
  },
  {
   "cell_type": "markdown",
   "metadata": {},
   "source": [
    "Merging the \"Unknown\" and \"Other\" classes together in the \"Other\" class in \"WEATHER\" column. Then replacing the missing values with the mode of the column: \"Clear\""
   ]
  },
  {
   "cell_type": "code",
   "execution_count": 668,
   "metadata": {
    "scrolled": false
   },
   "outputs": [
    {
     "name": "stdout",
     "output_type": "stream",
     "text": [
      "Clear\n"
     ]
    },
    {
     "data": {
      "text/plain": [
       "<matplotlib.axes._subplots.AxesSubplot at 0x14ab27d8390>"
      ]
     },
     "execution_count": 668,
     "metadata": {},
     "output_type": "execute_result"
    },
    {
     "data": {
      "image/png": "[encoded data removed]",
      "text/plain": [
       "<Figure size 1440x432 with 1 Axes>"
      ]
     },
     "metadata": {
      "needs_background": "light"
     },
     "output_type": "display_data"
    }
   ],
   "source": [
    "df['WEATHER'].replace({'Unknown':'Other'},inplace=True)\n",
    "df['WEATHER'].fillna(df['WEATHER'].mode()[0],inplace=True)\n",
    "print(df['WEATHER'].mode()[0])\n",
    "plt.figure(figsize=(20,6))\n",
    "sns.countplot(df['WEATHER'])"
   ]
  },
  {
   "cell_type": "markdown",
   "metadata": {},
   "source": [
    "Merging the \"Unknown\" with the \"Other\" class, the \"Standing Water\" with the \"Wet\" class and the \"Snow/Slush\" with the \"Ice\" class in \"ROADCOND\" column. Then replacing the missing values with the mode of the column: \"Dry\""
   ]
  },
  {
   "cell_type": "code",
   "execution_count": 631,
   "metadata": {
    "scrolled": true
   },
   "outputs": [
    {
     "name": "stdout",
     "output_type": "stream",
     "text": [
      "Dry\n"
     ]
    },
    {
     "data": {
      "text/plain": [
       "<matplotlib.axes._subplots.AxesSubplot at 0x14aad471a58>"
      ]
     },
     "execution_count": 631,
     "metadata": {},
     "output_type": "execute_result"
    },
    {
     "data": {
      "image/png": "[encoded data removed]",
      "text/plain": [
       "<Figure size 432x288 with 1 Axes>"
      ]
     },
     "metadata": {
      "needs_background": "light"
     },
     "output_type": "display_data"
    }
   ],
   "source": [
    "df['ROADCOND'].replace({'Standing Water':'Wet','Snow/Slush':'Ice','Unknown':'Other'},inplace=True)\n",
    "df['ROADCOND'].fillna(df['ROADCOND'].mode()[0],inplace=True)\n",
    "print(df['ROADCOND'].mode()[0])\n",
    "sns.countplot(df['ROADCOND'])"
   ]
  },
  {
   "cell_type": "markdown",
   "metadata": {},
   "source": [
    "Merging the \"Dark - Street Lights On\",\"Dark - No Street Lights\",\"Dark - Street Lights Off\",\"Dark - Unknown Lighting\" classes with the \"Dark\" class and the \"Unknown\" class with the \"Other\" class in \"LIGHTCOND\" column. Then replacing the missing values with the mode of the column: \"Daylight\""
   ]
  },
  {
   "cell_type": "code",
   "execution_count": 632,
   "metadata": {},
   "outputs": [
    {
     "name": "stdout",
     "output_type": "stream",
     "text": [
      "Daylight\n"
     ]
    },
    {
     "data": {
      "text/plain": [
       "<matplotlib.axes._subplots.AxesSubplot at 0x14aad2d0f60>"
      ]
     },
     "execution_count": 632,
     "metadata": {},
     "output_type": "execute_result"
    },
    {
     "data": {
      "image/png": "[encoded data removed]",
      "text/plain": [
       "<Figure size 432x288 with 1 Axes>"
      ]
     },
     "metadata": {
      "needs_background": "light"
     },
     "output_type": "display_data"
    }
   ],
   "source": [
    "df['LIGHTCOND'].replace({'Dark - Street Lights On':'Dark','Dark - No Street Lights':'Dark',\n",
    "                    'Dark - Street Lights Off':'Dark','Dark - Unknown Lighting':'Dark','Unknown':'Other'},inplace=True)\n",
    "df['LIGHTCOND'].fillna(df['LIGHTCOND'].mode()[0],inplace=True)\n",
    "print(df['LIGHTCOND'].mode()[0])\n",
    "sns.countplot(df['LIGHTCOND'])"
   ]
  },
  {
   "cell_type": "markdown",
   "metadata": {},
   "source": [
    "Replacing the missing values in the \"PEDROWNOTGRNT\" column with \"N\", then mapping the Y to 1 and N to 0.\n",
    "In the majority of the collisions the pedestrian right of way was not granted."
   ]
  },
  {
   "cell_type": "code",
   "execution_count": 633,
   "metadata": {
    "scrolled": true
   },
   "outputs": [
    {
     "data": {
      "text/plain": [
       "<matplotlib.axes._subplots.AxesSubplot at 0x14aad446e48>"
      ]
     },
     "execution_count": 633,
     "metadata": {},
     "output_type": "execute_result"
    },
    {
     "data": {
      "image/png": "[encoded data removed]",
      "text/plain": [
       "<Figure size 432x288 with 1 Axes>"
      ]
     },
     "metadata": {
      "needs_background": "light"
     },
     "output_type": "display_data"
    }
   ],
   "source": [
    "df['PEDROWNOTGRNT'].fillna('N',inplace=True)\n",
    "df['PEDROWNOTGRNT'].replace({'Y':'1','N':'0'},inplace=True)\n",
    "sns.countplot(df['PEDROWNOTGRNT'])"
   ]
  },
  {
   "cell_type": "markdown",
   "metadata": {},
   "source": [
    "Replacing the missing values in the \"SPEEDING\" column with \"N\", then mapping the Y to 1 and N to 0. In the majority of the collisions speeding was not a factor in the collision."
   ]
  },
  {
   "cell_type": "code",
   "execution_count": 634,
   "metadata": {
    "scrolled": true
   },
   "outputs": [
    {
     "data": {
      "text/plain": [
       "<matplotlib.axes._subplots.AxesSubplot at 0x14aad31de48>"
      ]
     },
     "execution_count": 634,
     "metadata": {},
     "output_type": "execute_result"
    },
    {
     "data": {
      "image/png": "[encoded data removed]",
      "text/plain": [
       "<Figure size 432x288 with 1 Axes>"
      ]
     },
     "metadata": {
      "needs_background": "light"
     },
     "output_type": "display_data"
    }
   ],
   "source": [
    "df['SPEEDING'].fillna('N',inplace=True)\n",
    "df['SPEEDING'].replace({'Y':'1','N':'0'},inplace=True)\n",
    "sns.countplot(df['SPEEDING'])"
   ]
  },
  {
   "cell_type": "markdown",
   "metadata": {},
   "source": [
    "Mapping the values in the \"HITPARKEDCAR\" column the Y to 1 and N to 0. "
   ]
  },
  {
   "cell_type": "code",
   "execution_count": 635,
   "metadata": {},
   "outputs": [
    {
     "data": {
      "text/plain": [
       "<matplotlib.axes._subplots.AxesSubplot at 0x14aad3724a8>"
      ]
     },
     "execution_count": 635,
     "metadata": {},
     "output_type": "execute_result"
    },
    {
     "data": {
      "image/png": "[encoded data removed]",
      "text/plain": [
       "<Figure size 432x288 with 1 Axes>"
      ]
     },
     "metadata": {
      "needs_background": "light"
     },
     "output_type": "display_data"
    }
   ],
   "source": [
    "df['HITPARKEDCAR'].replace({'Y':'1','N':'0'},inplace=True)\n",
    "sns.countplot(df['HITPARKEDCAR'])"
   ]
  },
  {
   "cell_type": "markdown",
   "metadata": {},
   "source": [
    "#### One hot encoding for categorical variables and dropping the first column to avoid collinearity"
   ]
  },
  {
   "cell_type": "code",
   "execution_count": 636,
   "metadata": {
    "scrolled": true
   },
   "outputs": [
    {
     "name": "stdout",
     "output_type": "stream",
     "text": [
      "<class 'pandas.core.frame.DataFrame'>\n",
      "RangeIndex: 194673 entries, 0 to 194672\n",
      "Data columns (total 40 columns):\n",
      " #   Column                            Non-Null Count   Dtype \n",
      "---  ------                            --------------   ----- \n",
      " 0   SEVERITYCODE                      194673 non-null  int64 \n",
      " 1   PERSONCOUNT                       194673 non-null  int64 \n",
      " 2   PEDCOUNT                          194673 non-null  int64 \n",
      " 3   PEDCYLCOUNT                       194673 non-null  int64 \n",
      " 4   VEHCOUNT                          194673 non-null  int64 \n",
      " 5   INATTENTIONIND                    194673 non-null  int64 \n",
      " 6   UNDERINFL                         189789 non-null  object\n",
      " 7   PEDROWNOTGRNT                     194673 non-null  object\n",
      " 8   SPEEDING                          194673 non-null  object\n",
      " 9   HITPARKEDCAR                      194673 non-null  object\n",
      " 10  ADDRTYPE_Block                    194673 non-null  uint8 \n",
      " 11  ADDRTYPE_Intersection             194673 non-null  uint8 \n",
      " 12  COLLISIONTYPE_Cycles              194673 non-null  uint8 \n",
      " 13  COLLISIONTYPE_Head On             194673 non-null  uint8 \n",
      " 14  COLLISIONTYPE_Left Turn           194673 non-null  uint8 \n",
      " 15  COLLISIONTYPE_Other               194673 non-null  uint8 \n",
      " 16  COLLISIONTYPE_Parked Car          194673 non-null  uint8 \n",
      " 17  COLLISIONTYPE_Pedestrian          194673 non-null  uint8 \n",
      " 18  COLLISIONTYPE_Rear Ended          194673 non-null  uint8 \n",
      " 19  COLLISIONTYPE_Right Turn          194673 non-null  uint8 \n",
      " 20  COLLISIONTYPE_Sideswipe           194673 non-null  uint8 \n",
      " 21  WEATHER_Clear                     194673 non-null  uint8 \n",
      " 22  WEATHER_Fog/Smog/Smoke            194673 non-null  uint8 \n",
      " 23  WEATHER_Other                     194673 non-null  uint8 \n",
      " 24  WEATHER_Overcast                  194673 non-null  uint8 \n",
      " 25  WEATHER_Partly Cloudy             194673 non-null  uint8 \n",
      " 26  WEATHER_Raining                   194673 non-null  uint8 \n",
      " 27  WEATHER_Severe Crosswind          194673 non-null  uint8 \n",
      " 28  WEATHER_Sleet/Hail/Freezing Rain  194673 non-null  uint8 \n",
      " 29  WEATHER_Snowing                   194673 non-null  uint8 \n",
      " 30  WEATHER_Unknown                   194673 non-null  uint8 \n",
      " 31  ROADCOND_Ice                      194673 non-null  uint8 \n",
      " 32  ROADCOND_Oil                      194673 non-null  uint8 \n",
      " 33  ROADCOND_Other                    194673 non-null  uint8 \n",
      " 34  ROADCOND_Sand/Mud/Dirt            194673 non-null  uint8 \n",
      " 35  ROADCOND_Wet                      194673 non-null  uint8 \n",
      " 36  LIGHTCOND_Dawn                    194673 non-null  uint8 \n",
      " 37  LIGHTCOND_Daylight                194673 non-null  uint8 \n",
      " 38  LIGHTCOND_Dusk                    194673 non-null  uint8 \n",
      " 39  LIGHTCOND_Other                   194673 non-null  uint8 \n",
      "dtypes: int64(6), object(4), uint8(30)\n",
      "memory usage: 20.4+ MB\n"
     ]
    }
   ],
   "source": [
    "df=pd.get_dummies(df,columns=['ADDRTYPE','COLLISIONTYPE','WEATHER','ROADCOND','LIGHTCOND'],drop_first=True)\n",
    "df.info()"
   ]
  },
  {
   "cell_type": "markdown",
   "metadata": {},
   "source": [
    "#### Changing data types to integer"
   ]
  },
  {
   "cell_type": "code",
   "execution_count": 641,
   "metadata": {},
   "outputs": [],
   "source": [
    "df['UNDERINFL']=df['UNDERINFL'].astype(int)\n",
    "df['PEDROWNOTGRNT']=df['PEDROWNOTGRNT'].astype(int)\n",
    "df['SPEEDING']=df['SPEEDING'].astype(int)\n",
    "df['HITPARKEDCAR']=df['HITPARKEDCAR'].astype(int)"
   ]
  },
  {
   "cell_type": "code",
   "execution_count": 642,
   "metadata": {
    "scrolled": true
   },
   "outputs": [
    {
     "name": "stdout",
     "output_type": "stream",
     "text": [
      "<class 'pandas.core.frame.DataFrame'>\n",
      "RangeIndex: 194673 entries, 0 to 194672\n",
      "Data columns (total 40 columns):\n",
      " #   Column                            Non-Null Count   Dtype\n",
      "---  ------                            --------------   -----\n",
      " 0   SEVERITYCODE                      194673 non-null  int64\n",
      " 1   PERSONCOUNT                       194673 non-null  int64\n",
      " 2   PEDCOUNT                          194673 non-null  int64\n",
      " 3   PEDCYLCOUNT                       194673 non-null  int64\n",
      " 4   VEHCOUNT                          194673 non-null  int64\n",
      " 5   INATTENTIONIND                    194673 non-null  int64\n",
      " 6   UNDERINFL                         194673 non-null  int32\n",
      " 7   PEDROWNOTGRNT                     194673 non-null  int32\n",
      " 8   SPEEDING                          194673 non-null  int32\n",
      " 9   HITPARKEDCAR                      194673 non-null  int32\n",
      " 10  ADDRTYPE_Block                    194673 non-null  uint8\n",
      " 11  ADDRTYPE_Intersection             194673 non-null  uint8\n",
      " 12  COLLISIONTYPE_Cycles              194673 non-null  uint8\n",
      " 13  COLLISIONTYPE_Head On             194673 non-null  uint8\n",
      " 14  COLLISIONTYPE_Left Turn           194673 non-null  uint8\n",
      " 15  COLLISIONTYPE_Other               194673 non-null  uint8\n",
      " 16  COLLISIONTYPE_Parked Car          194673 non-null  uint8\n",
      " 17  COLLISIONTYPE_Pedestrian          194673 non-null  uint8\n",
      " 18  COLLISIONTYPE_Rear Ended          194673 non-null  uint8\n",
      " 19  COLLISIONTYPE_Right Turn          194673 non-null  uint8\n",
      " 20  COLLISIONTYPE_Sideswipe           194673 non-null  uint8\n",
      " 21  WEATHER_Clear                     194673 non-null  uint8\n",
      " 22  WEATHER_Fog/Smog/Smoke            194673 non-null  uint8\n",
      " 23  WEATHER_Other                     194673 non-null  uint8\n",
      " 24  WEATHER_Overcast                  194673 non-null  uint8\n",
      " 25  WEATHER_Partly Cloudy             194673 non-null  uint8\n",
      " 26  WEATHER_Raining                   194673 non-null  uint8\n",
      " 27  WEATHER_Severe Crosswind          194673 non-null  uint8\n",
      " 28  WEATHER_Sleet/Hail/Freezing Rain  194673 non-null  uint8\n",
      " 29  WEATHER_Snowing                   194673 non-null  uint8\n",
      " 30  WEATHER_Unknown                   194673 non-null  uint8\n",
      " 31  ROADCOND_Ice                      194673 non-null  uint8\n",
      " 32  ROADCOND_Oil                      194673 non-null  uint8\n",
      " 33  ROADCOND_Other                    194673 non-null  uint8\n",
      " 34  ROADCOND_Sand/Mud/Dirt            194673 non-null  uint8\n",
      " 35  ROADCOND_Wet                      194673 non-null  uint8\n",
      " 36  LIGHTCOND_Dawn                    194673 non-null  uint8\n",
      " 37  LIGHTCOND_Daylight                194673 non-null  uint8\n",
      " 38  LIGHTCOND_Dusk                    194673 non-null  uint8\n",
      " 39  LIGHTCOND_Other                   194673 non-null  uint8\n",
      "dtypes: int32(4), int64(6), uint8(30)\n",
      "memory usage: 17.5 MB\n"
     ]
    }
   ],
   "source": [
    "df.info()"
   ]
  },
  {
   "cell_type": "markdown",
   "metadata": {},
   "source": [
    "\n",
    "### Dealing with Imbalanced data\n",
    "\n",
    "1) Undersampling majority class"
   ]
  },
  {
   "cell_type": "code",
   "execution_count": 643,
   "metadata": {},
   "outputs": [
    {
     "name": "stdout",
     "output_type": "stream",
     "text": [
      "class 1: (136485, 40)\n",
      "class 2: (58188, 40)\n"
     ]
    }
   ],
   "source": [
    "# class count\n",
    "class_count_1, class_count_2 = df['SEVERITYCODE'].value_counts()\n",
    "\n",
    "# Separate class\n",
    "class_1 = df[df['SEVERITYCODE'] == 1]\n",
    "class_2 = df[df['SEVERITYCODE'] == 2]\n",
    "print('class 1:', class_1.shape)\n",
    "print('class 2:', class_2.shape)"
   ]
  },
  {
   "cell_type": "code",
   "execution_count": 644,
   "metadata": {},
   "outputs": [
    {
     "name": "stdout",
     "output_type": "stream",
     "text": [
      "total class of 2 and 1:\n",
      " 2    58188\n",
      "1    58188\n",
      "Name: SEVERITYCODE, dtype: int64\n"
     ]
    }
   ],
   "source": [
    "class_1_under = class_1.sample(class_count_2)\n",
    "\n",
    "df_under = pd.concat([class_1_under, class_2], axis=0)\n",
    "\n",
    "print(\"total class of 2 and 1:\\n\",df_under['SEVERITYCODE'].value_counts())"
   ]
  },
  {
   "cell_type": "code",
   "execution_count": 645,
   "metadata": {
    "scrolled": true
   },
   "outputs": [
    {
     "data": {
      "text/html": [
       "<div>\n",
       "<style scoped>\n",
       "    .dataframe tbody tr th:only-of-type {\n",
       "        vertical-align: middle;\n",
       "    }\n",
       "\n",
       "    .dataframe tbody tr th {\n",
       "        vertical-align: top;\n",
       "    }\n",
       "\n",
       "    .dataframe thead th {\n",
       "        text-align: right;\n",
       "    }\n",
       "</style>\n",
       "<table border=\"1\" class=\"dataframe\">\n",
       "  <thead>\n",
       "    <tr style=\"text-align: right;\">\n",
       "      <th></th>\n",
       "      <th>SEVERITYCODE</th>\n",
       "      <th>PERSONCOUNT</th>\n",
       "      <th>PEDCOUNT</th>\n",
       "      <th>PEDCYLCOUNT</th>\n",
       "      <th>VEHCOUNT</th>\n",
       "      <th>INATTENTIONIND</th>\n",
       "      <th>UNDERINFL</th>\n",
       "      <th>PEDROWNOTGRNT</th>\n",
       "      <th>SPEEDING</th>\n",
       "      <th>HITPARKEDCAR</th>\n",
       "      <th>...</th>\n",
       "      <th>WEATHER_Unknown</th>\n",
       "      <th>ROADCOND_Ice</th>\n",
       "      <th>ROADCOND_Oil</th>\n",
       "      <th>ROADCOND_Other</th>\n",
       "      <th>ROADCOND_Sand/Mud/Dirt</th>\n",
       "      <th>ROADCOND_Wet</th>\n",
       "      <th>LIGHTCOND_Dawn</th>\n",
       "      <th>LIGHTCOND_Daylight</th>\n",
       "      <th>LIGHTCOND_Dusk</th>\n",
       "      <th>LIGHTCOND_Other</th>\n",
       "    </tr>\n",
       "  </thead>\n",
       "  <tbody>\n",
       "    <tr>\n",
       "      <th>102008</th>\n",
       "      <td>1</td>\n",
       "      <td>2</td>\n",
       "      <td>0</td>\n",
       "      <td>0</td>\n",
       "      <td>2</td>\n",
       "      <td>0</td>\n",
       "      <td>0</td>\n",
       "      <td>0</td>\n",
       "      <td>0</td>\n",
       "      <td>0</td>\n",
       "      <td>...</td>\n",
       "      <td>1</td>\n",
       "      <td>0</td>\n",
       "      <td>0</td>\n",
       "      <td>1</td>\n",
       "      <td>0</td>\n",
       "      <td>0</td>\n",
       "      <td>0</td>\n",
       "      <td>0</td>\n",
       "      <td>0</td>\n",
       "      <td>1</td>\n",
       "    </tr>\n",
       "    <tr>\n",
       "      <th>192205</th>\n",
       "      <td>1</td>\n",
       "      <td>4</td>\n",
       "      <td>0</td>\n",
       "      <td>0</td>\n",
       "      <td>2</td>\n",
       "      <td>0</td>\n",
       "      <td>0</td>\n",
       "      <td>0</td>\n",
       "      <td>0</td>\n",
       "      <td>0</td>\n",
       "      <td>...</td>\n",
       "      <td>0</td>\n",
       "      <td>0</td>\n",
       "      <td>0</td>\n",
       "      <td>0</td>\n",
       "      <td>0</td>\n",
       "      <td>0</td>\n",
       "      <td>0</td>\n",
       "      <td>0</td>\n",
       "      <td>0</td>\n",
       "      <td>0</td>\n",
       "    </tr>\n",
       "    <tr>\n",
       "      <th>15451</th>\n",
       "      <td>1</td>\n",
       "      <td>3</td>\n",
       "      <td>0</td>\n",
       "      <td>0</td>\n",
       "      <td>2</td>\n",
       "      <td>0</td>\n",
       "      <td>0</td>\n",
       "      <td>0</td>\n",
       "      <td>0</td>\n",
       "      <td>0</td>\n",
       "      <td>...</td>\n",
       "      <td>0</td>\n",
       "      <td>0</td>\n",
       "      <td>0</td>\n",
       "      <td>0</td>\n",
       "      <td>0</td>\n",
       "      <td>0</td>\n",
       "      <td>0</td>\n",
       "      <td>1</td>\n",
       "      <td>0</td>\n",
       "      <td>0</td>\n",
       "    </tr>\n",
       "    <tr>\n",
       "      <th>92757</th>\n",
       "      <td>1</td>\n",
       "      <td>2</td>\n",
       "      <td>0</td>\n",
       "      <td>0</td>\n",
       "      <td>2</td>\n",
       "      <td>0</td>\n",
       "      <td>0</td>\n",
       "      <td>0</td>\n",
       "      <td>0</td>\n",
       "      <td>0</td>\n",
       "      <td>...</td>\n",
       "      <td>1</td>\n",
       "      <td>0</td>\n",
       "      <td>0</td>\n",
       "      <td>1</td>\n",
       "      <td>0</td>\n",
       "      <td>0</td>\n",
       "      <td>0</td>\n",
       "      <td>0</td>\n",
       "      <td>0</td>\n",
       "      <td>1</td>\n",
       "    </tr>\n",
       "    <tr>\n",
       "      <th>171412</th>\n",
       "      <td>1</td>\n",
       "      <td>8</td>\n",
       "      <td>0</td>\n",
       "      <td>0</td>\n",
       "      <td>4</td>\n",
       "      <td>0</td>\n",
       "      <td>0</td>\n",
       "      <td>0</td>\n",
       "      <td>1</td>\n",
       "      <td>0</td>\n",
       "      <td>...</td>\n",
       "      <td>0</td>\n",
       "      <td>0</td>\n",
       "      <td>0</td>\n",
       "      <td>0</td>\n",
       "      <td>0</td>\n",
       "      <td>1</td>\n",
       "      <td>0</td>\n",
       "      <td>0</td>\n",
       "      <td>0</td>\n",
       "      <td>0</td>\n",
       "    </tr>\n",
       "    <tr>\n",
       "      <th>...</th>\n",
       "      <td>...</td>\n",
       "      <td>...</td>\n",
       "      <td>...</td>\n",
       "      <td>...</td>\n",
       "      <td>...</td>\n",
       "      <td>...</td>\n",
       "      <td>...</td>\n",
       "      <td>...</td>\n",
       "      <td>...</td>\n",
       "      <td>...</td>\n",
       "      <td>...</td>\n",
       "      <td>...</td>\n",
       "      <td>...</td>\n",
       "      <td>...</td>\n",
       "      <td>...</td>\n",
       "      <td>...</td>\n",
       "      <td>...</td>\n",
       "      <td>...</td>\n",
       "      <td>...</td>\n",
       "      <td>...</td>\n",
       "      <td>...</td>\n",
       "    </tr>\n",
       "    <tr>\n",
       "      <th>194663</th>\n",
       "      <td>2</td>\n",
       "      <td>3</td>\n",
       "      <td>0</td>\n",
       "      <td>0</td>\n",
       "      <td>2</td>\n",
       "      <td>1</td>\n",
       "      <td>0</td>\n",
       "      <td>0</td>\n",
       "      <td>0</td>\n",
       "      <td>0</td>\n",
       "      <td>...</td>\n",
       "      <td>0</td>\n",
       "      <td>0</td>\n",
       "      <td>0</td>\n",
       "      <td>0</td>\n",
       "      <td>0</td>\n",
       "      <td>1</td>\n",
       "      <td>0</td>\n",
       "      <td>1</td>\n",
       "      <td>0</td>\n",
       "      <td>0</td>\n",
       "    </tr>\n",
       "    <tr>\n",
       "      <th>194666</th>\n",
       "      <td>2</td>\n",
       "      <td>2</td>\n",
       "      <td>0</td>\n",
       "      <td>0</td>\n",
       "      <td>2</td>\n",
       "      <td>0</td>\n",
       "      <td>0</td>\n",
       "      <td>0</td>\n",
       "      <td>0</td>\n",
       "      <td>0</td>\n",
       "      <td>...</td>\n",
       "      <td>0</td>\n",
       "      <td>0</td>\n",
       "      <td>0</td>\n",
       "      <td>0</td>\n",
       "      <td>0</td>\n",
       "      <td>1</td>\n",
       "      <td>0</td>\n",
       "      <td>1</td>\n",
       "      <td>0</td>\n",
       "      <td>0</td>\n",
       "    </tr>\n",
       "    <tr>\n",
       "      <th>194668</th>\n",
       "      <td>2</td>\n",
       "      <td>3</td>\n",
       "      <td>0</td>\n",
       "      <td>0</td>\n",
       "      <td>2</td>\n",
       "      <td>0</td>\n",
       "      <td>0</td>\n",
       "      <td>0</td>\n",
       "      <td>0</td>\n",
       "      <td>0</td>\n",
       "      <td>...</td>\n",
       "      <td>0</td>\n",
       "      <td>0</td>\n",
       "      <td>0</td>\n",
       "      <td>0</td>\n",
       "      <td>0</td>\n",
       "      <td>0</td>\n",
       "      <td>0</td>\n",
       "      <td>1</td>\n",
       "      <td>0</td>\n",
       "      <td>0</td>\n",
       "    </tr>\n",
       "    <tr>\n",
       "      <th>194670</th>\n",
       "      <td>2</td>\n",
       "      <td>3</td>\n",
       "      <td>0</td>\n",
       "      <td>0</td>\n",
       "      <td>2</td>\n",
       "      <td>0</td>\n",
       "      <td>0</td>\n",
       "      <td>0</td>\n",
       "      <td>0</td>\n",
       "      <td>0</td>\n",
       "      <td>...</td>\n",
       "      <td>0</td>\n",
       "      <td>0</td>\n",
       "      <td>0</td>\n",
       "      <td>0</td>\n",
       "      <td>0</td>\n",
       "      <td>0</td>\n",
       "      <td>0</td>\n",
       "      <td>1</td>\n",
       "      <td>0</td>\n",
       "      <td>0</td>\n",
       "    </tr>\n",
       "    <tr>\n",
       "      <th>194671</th>\n",
       "      <td>2</td>\n",
       "      <td>2</td>\n",
       "      <td>0</td>\n",
       "      <td>1</td>\n",
       "      <td>1</td>\n",
       "      <td>0</td>\n",
       "      <td>0</td>\n",
       "      <td>0</td>\n",
       "      <td>0</td>\n",
       "      <td>0</td>\n",
       "      <td>...</td>\n",
       "      <td>0</td>\n",
       "      <td>0</td>\n",
       "      <td>0</td>\n",
       "      <td>0</td>\n",
       "      <td>0</td>\n",
       "      <td>0</td>\n",
       "      <td>0</td>\n",
       "      <td>0</td>\n",
       "      <td>1</td>\n",
       "      <td>0</td>\n",
       "    </tr>\n",
       "  </tbody>\n",
       "</table>\n",
       "<p>116376 rows × 40 columns</p>\n",
       "</div>"
      ],
      "text/plain": [
       "        SEVERITYCODE  PERSONCOUNT  PEDCOUNT  PEDCYLCOUNT  VEHCOUNT  \\\n",
       "102008             1            2         0            0         2   \n",
       "192205             1            4         0            0         2   \n",
       "15451              1            3         0            0         2   \n",
       "92757              1            2         0            0         2   \n",
       "171412             1            8         0            0         4   \n",
       "...              ...          ...       ...          ...       ...   \n",
       "194663             2            3         0            0         2   \n",
       "194666             2            2         0            0         2   \n",
       "194668             2            3         0            0         2   \n",
       "194670             2            3         0            0         2   \n",
       "194671             2            2         0            1         1   \n",
       "\n",
       "        INATTENTIONIND  UNDERINFL  PEDROWNOTGRNT  SPEEDING  HITPARKEDCAR  ...  \\\n",
       "102008               0          0              0         0             0  ...   \n",
       "192205               0          0              0         0             0  ...   \n",
       "15451                0          0              0         0             0  ...   \n",
       "92757                0          0              0         0             0  ...   \n",
       "171412               0          0              0         1             0  ...   \n",
       "...                ...        ...            ...       ...           ...  ...   \n",
       "194663               1          0              0         0             0  ...   \n",
       "194666               0          0              0         0             0  ...   \n",
       "194668               0          0              0         0             0  ...   \n",
       "194670               0          0              0         0             0  ...   \n",
       "194671               0          0              0         0             0  ...   \n",
       "\n",
       "        WEATHER_Unknown  ROADCOND_Ice  ROADCOND_Oil  ROADCOND_Other  \\\n",
       "102008                1             0             0               1   \n",
       "192205                0             0             0               0   \n",
       "15451                 0             0             0               0   \n",
       "92757                 1             0             0               1   \n",
       "171412                0             0             0               0   \n",
       "...                 ...           ...           ...             ...   \n",
       "194663                0             0             0               0   \n",
       "194666                0             0             0               0   \n",
       "194668                0             0             0               0   \n",
       "194670                0             0             0               0   \n",
       "194671                0             0             0               0   \n",
       "\n",
       "        ROADCOND_Sand/Mud/Dirt  ROADCOND_Wet  LIGHTCOND_Dawn  \\\n",
       "102008                       0             0               0   \n",
       "192205                       0             0               0   \n",
       "15451                        0             0               0   \n",
       "92757                        0             0               0   \n",
       "171412                       0             1               0   \n",
       "...                        ...           ...             ...   \n",
       "194663                       0             1               0   \n",
       "194666                       0             1               0   \n",
       "194668                       0             0               0   \n",
       "194670                       0             0               0   \n",
       "194671                       0             0               0   \n",
       "\n",
       "        LIGHTCOND_Daylight  LIGHTCOND_Dusk  LIGHTCOND_Other  \n",
       "102008                   0               0                1  \n",
       "192205                   0               0                0  \n",
       "15451                    1               0                0  \n",
       "92757                    0               0                1  \n",
       "171412                   0               0                0  \n",
       "...                    ...             ...              ...  \n",
       "194663                   1               0                0  \n",
       "194666                   1               0                0  \n",
       "194668                   1               0                0  \n",
       "194670                   1               0                0  \n",
       "194671                   0               1                0  \n",
       "\n",
       "[116376 rows x 40 columns]"
      ]
     },
     "execution_count": 645,
     "metadata": {},
     "output_type": "execute_result"
    }
   ],
   "source": [
    "df_under"
   ]
  },
  {
   "cell_type": "markdown",
   "metadata": {},
   "source": [
    "2) Oversampling the minority class"
   ]
  },
  {
   "cell_type": "code",
   "execution_count": 646,
   "metadata": {},
   "outputs": [
    {
     "name": "stdout",
     "output_type": "stream",
     "text": [
      "total class of 2 and 1:\n",
      " 2    136485\n",
      "1    136485\n",
      "Name: SEVERITYCODE, dtype: int64\n"
     ]
    }
   ],
   "source": [
    "class_2_over = class_2.sample(class_count_1, replace=True)\n",
    "\n",
    "df_over = pd.concat([class_2_over, class_1], axis=0)\n",
    "\n",
    "print(\"total class of 2 and 1:\\n\",df_over['SEVERITYCODE'].value_counts())"
   ]
  },
  {
   "cell_type": "code",
   "execution_count": 647,
   "metadata": {},
   "outputs": [
    {
     "data": {
      "text/html": [
       "<div>\n",
       "<style scoped>\n",
       "    .dataframe tbody tr th:only-of-type {\n",
       "        vertical-align: middle;\n",
       "    }\n",
       "\n",
       "    .dataframe tbody tr th {\n",
       "        vertical-align: top;\n",
       "    }\n",
       "\n",
       "    .dataframe thead th {\n",
       "        text-align: right;\n",
       "    }\n",
       "</style>\n",
       "<table border=\"1\" class=\"dataframe\">\n",
       "  <thead>\n",
       "    <tr style=\"text-align: right;\">\n",
       "      <th></th>\n",
       "      <th>SEVERITYCODE</th>\n",
       "      <th>PERSONCOUNT</th>\n",
       "      <th>PEDCOUNT</th>\n",
       "      <th>PEDCYLCOUNT</th>\n",
       "      <th>VEHCOUNT</th>\n",
       "      <th>INATTENTIONIND</th>\n",
       "      <th>UNDERINFL</th>\n",
       "      <th>PEDROWNOTGRNT</th>\n",
       "      <th>SPEEDING</th>\n",
       "      <th>HITPARKEDCAR</th>\n",
       "      <th>...</th>\n",
       "      <th>WEATHER_Unknown</th>\n",
       "      <th>ROADCOND_Ice</th>\n",
       "      <th>ROADCOND_Oil</th>\n",
       "      <th>ROADCOND_Other</th>\n",
       "      <th>ROADCOND_Sand/Mud/Dirt</th>\n",
       "      <th>ROADCOND_Wet</th>\n",
       "      <th>LIGHTCOND_Dawn</th>\n",
       "      <th>LIGHTCOND_Daylight</th>\n",
       "      <th>LIGHTCOND_Dusk</th>\n",
       "      <th>LIGHTCOND_Other</th>\n",
       "    </tr>\n",
       "  </thead>\n",
       "  <tbody>\n",
       "    <tr>\n",
       "      <th>131508</th>\n",
       "      <td>2</td>\n",
       "      <td>4</td>\n",
       "      <td>0</td>\n",
       "      <td>0</td>\n",
       "      <td>2</td>\n",
       "      <td>0</td>\n",
       "      <td>0</td>\n",
       "      <td>0</td>\n",
       "      <td>0</td>\n",
       "      <td>0</td>\n",
       "      <td>...</td>\n",
       "      <td>0</td>\n",
       "      <td>0</td>\n",
       "      <td>0</td>\n",
       "      <td>0</td>\n",
       "      <td>0</td>\n",
       "      <td>0</td>\n",
       "      <td>0</td>\n",
       "      <td>0</td>\n",
       "      <td>0</td>\n",
       "      <td>0</td>\n",
       "    </tr>\n",
       "    <tr>\n",
       "      <th>140884</th>\n",
       "      <td>2</td>\n",
       "      <td>0</td>\n",
       "      <td>0</td>\n",
       "      <td>1</td>\n",
       "      <td>1</td>\n",
       "      <td>0</td>\n",
       "      <td>0</td>\n",
       "      <td>0</td>\n",
       "      <td>0</td>\n",
       "      <td>0</td>\n",
       "      <td>...</td>\n",
       "      <td>0</td>\n",
       "      <td>0</td>\n",
       "      <td>0</td>\n",
       "      <td>0</td>\n",
       "      <td>0</td>\n",
       "      <td>1</td>\n",
       "      <td>0</td>\n",
       "      <td>0</td>\n",
       "      <td>0</td>\n",
       "      <td>0</td>\n",
       "    </tr>\n",
       "    <tr>\n",
       "      <th>47519</th>\n",
       "      <td>2</td>\n",
       "      <td>3</td>\n",
       "      <td>0</td>\n",
       "      <td>0</td>\n",
       "      <td>2</td>\n",
       "      <td>1</td>\n",
       "      <td>0</td>\n",
       "      <td>0</td>\n",
       "      <td>0</td>\n",
       "      <td>0</td>\n",
       "      <td>...</td>\n",
       "      <td>0</td>\n",
       "      <td>0</td>\n",
       "      <td>0</td>\n",
       "      <td>0</td>\n",
       "      <td>0</td>\n",
       "      <td>0</td>\n",
       "      <td>0</td>\n",
       "      <td>1</td>\n",
       "      <td>0</td>\n",
       "      <td>0</td>\n",
       "    </tr>\n",
       "    <tr>\n",
       "      <th>20972</th>\n",
       "      <td>2</td>\n",
       "      <td>6</td>\n",
       "      <td>0</td>\n",
       "      <td>0</td>\n",
       "      <td>2</td>\n",
       "      <td>0</td>\n",
       "      <td>0</td>\n",
       "      <td>0</td>\n",
       "      <td>0</td>\n",
       "      <td>0</td>\n",
       "      <td>...</td>\n",
       "      <td>0</td>\n",
       "      <td>0</td>\n",
       "      <td>0</td>\n",
       "      <td>0</td>\n",
       "      <td>0</td>\n",
       "      <td>0</td>\n",
       "      <td>0</td>\n",
       "      <td>1</td>\n",
       "      <td>0</td>\n",
       "      <td>0</td>\n",
       "    </tr>\n",
       "    <tr>\n",
       "      <th>107251</th>\n",
       "      <td>2</td>\n",
       "      <td>3</td>\n",
       "      <td>0</td>\n",
       "      <td>0</td>\n",
       "      <td>2</td>\n",
       "      <td>0</td>\n",
       "      <td>0</td>\n",
       "      <td>0</td>\n",
       "      <td>0</td>\n",
       "      <td>0</td>\n",
       "      <td>...</td>\n",
       "      <td>0</td>\n",
       "      <td>0</td>\n",
       "      <td>0</td>\n",
       "      <td>0</td>\n",
       "      <td>0</td>\n",
       "      <td>0</td>\n",
       "      <td>0</td>\n",
       "      <td>1</td>\n",
       "      <td>0</td>\n",
       "      <td>0</td>\n",
       "    </tr>\n",
       "    <tr>\n",
       "      <th>...</th>\n",
       "      <td>...</td>\n",
       "      <td>...</td>\n",
       "      <td>...</td>\n",
       "      <td>...</td>\n",
       "      <td>...</td>\n",
       "      <td>...</td>\n",
       "      <td>...</td>\n",
       "      <td>...</td>\n",
       "      <td>...</td>\n",
       "      <td>...</td>\n",
       "      <td>...</td>\n",
       "      <td>...</td>\n",
       "      <td>...</td>\n",
       "      <td>...</td>\n",
       "      <td>...</td>\n",
       "      <td>...</td>\n",
       "      <td>...</td>\n",
       "      <td>...</td>\n",
       "      <td>...</td>\n",
       "      <td>...</td>\n",
       "      <td>...</td>\n",
       "    </tr>\n",
       "    <tr>\n",
       "      <th>194664</th>\n",
       "      <td>1</td>\n",
       "      <td>8</td>\n",
       "      <td>0</td>\n",
       "      <td>0</td>\n",
       "      <td>3</td>\n",
       "      <td>0</td>\n",
       "      <td>0</td>\n",
       "      <td>0</td>\n",
       "      <td>0</td>\n",
       "      <td>0</td>\n",
       "      <td>...</td>\n",
       "      <td>0</td>\n",
       "      <td>0</td>\n",
       "      <td>0</td>\n",
       "      <td>0</td>\n",
       "      <td>0</td>\n",
       "      <td>0</td>\n",
       "      <td>0</td>\n",
       "      <td>1</td>\n",
       "      <td>0</td>\n",
       "      <td>0</td>\n",
       "    </tr>\n",
       "    <tr>\n",
       "      <th>194665</th>\n",
       "      <td>1</td>\n",
       "      <td>2</td>\n",
       "      <td>0</td>\n",
       "      <td>0</td>\n",
       "      <td>2</td>\n",
       "      <td>0</td>\n",
       "      <td>0</td>\n",
       "      <td>0</td>\n",
       "      <td>0</td>\n",
       "      <td>0</td>\n",
       "      <td>...</td>\n",
       "      <td>0</td>\n",
       "      <td>0</td>\n",
       "      <td>0</td>\n",
       "      <td>0</td>\n",
       "      <td>0</td>\n",
       "      <td>0</td>\n",
       "      <td>0</td>\n",
       "      <td>1</td>\n",
       "      <td>0</td>\n",
       "      <td>0</td>\n",
       "    </tr>\n",
       "    <tr>\n",
       "      <th>194667</th>\n",
       "      <td>1</td>\n",
       "      <td>1</td>\n",
       "      <td>0</td>\n",
       "      <td>0</td>\n",
       "      <td>1</td>\n",
       "      <td>0</td>\n",
       "      <td>1</td>\n",
       "      <td>0</td>\n",
       "      <td>0</td>\n",
       "      <td>0</td>\n",
       "      <td>...</td>\n",
       "      <td>0</td>\n",
       "      <td>0</td>\n",
       "      <td>0</td>\n",
       "      <td>0</td>\n",
       "      <td>0</td>\n",
       "      <td>1</td>\n",
       "      <td>0</td>\n",
       "      <td>0</td>\n",
       "      <td>0</td>\n",
       "      <td>0</td>\n",
       "    </tr>\n",
       "    <tr>\n",
       "      <th>194669</th>\n",
       "      <td>1</td>\n",
       "      <td>2</td>\n",
       "      <td>0</td>\n",
       "      <td>0</td>\n",
       "      <td>2</td>\n",
       "      <td>1</td>\n",
       "      <td>0</td>\n",
       "      <td>0</td>\n",
       "      <td>0</td>\n",
       "      <td>0</td>\n",
       "      <td>...</td>\n",
       "      <td>0</td>\n",
       "      <td>0</td>\n",
       "      <td>0</td>\n",
       "      <td>0</td>\n",
       "      <td>0</td>\n",
       "      <td>1</td>\n",
       "      <td>0</td>\n",
       "      <td>1</td>\n",
       "      <td>0</td>\n",
       "      <td>0</td>\n",
       "    </tr>\n",
       "    <tr>\n",
       "      <th>194672</th>\n",
       "      <td>1</td>\n",
       "      <td>2</td>\n",
       "      <td>0</td>\n",
       "      <td>0</td>\n",
       "      <td>2</td>\n",
       "      <td>0</td>\n",
       "      <td>0</td>\n",
       "      <td>0</td>\n",
       "      <td>0</td>\n",
       "      <td>0</td>\n",
       "      <td>...</td>\n",
       "      <td>0</td>\n",
       "      <td>0</td>\n",
       "      <td>0</td>\n",
       "      <td>0</td>\n",
       "      <td>0</td>\n",
       "      <td>1</td>\n",
       "      <td>0</td>\n",
       "      <td>1</td>\n",
       "      <td>0</td>\n",
       "      <td>0</td>\n",
       "    </tr>\n",
       "  </tbody>\n",
       "</table>\n",
       "<p>272970 rows × 40 columns</p>\n",
       "</div>"
      ],
      "text/plain": [
       "        SEVERITYCODE  PERSONCOUNT  PEDCOUNT  PEDCYLCOUNT  VEHCOUNT  \\\n",
       "131508             2            4         0            0         2   \n",
       "140884             2            0         0            1         1   \n",
       "47519              2            3         0            0         2   \n",
       "20972              2            6         0            0         2   \n",
       "107251             2            3         0            0         2   \n",
       "...              ...          ...       ...          ...       ...   \n",
       "194664             1            8         0            0         3   \n",
       "194665             1            2         0            0         2   \n",
       "194667             1            1         0            0         1   \n",
       "194669             1            2         0            0         2   \n",
       "194672             1            2         0            0         2   \n",
       "\n",
       "        INATTENTIONIND  UNDERINFL  PEDROWNOTGRNT  SPEEDING  HITPARKEDCAR  ...  \\\n",
       "131508               0          0              0         0             0  ...   \n",
       "140884               0          0              0         0             0  ...   \n",
       "47519                1          0              0         0             0  ...   \n",
       "20972                0          0              0         0             0  ...   \n",
       "107251               0          0              0         0             0  ...   \n",
       "...                ...        ...            ...       ...           ...  ...   \n",
       "194664               0          0              0         0             0  ...   \n",
       "194665               0          0              0         0             0  ...   \n",
       "194667               0          1              0         0             0  ...   \n",
       "194669               1          0              0         0             0  ...   \n",
       "194672               0          0              0         0             0  ...   \n",
       "\n",
       "        WEATHER_Unknown  ROADCOND_Ice  ROADCOND_Oil  ROADCOND_Other  \\\n",
       "131508                0             0             0               0   \n",
       "140884                0             0             0               0   \n",
       "47519                 0             0             0               0   \n",
       "20972                 0             0             0               0   \n",
       "107251                0             0             0               0   \n",
       "...                 ...           ...           ...             ...   \n",
       "194664                0             0             0               0   \n",
       "194665                0             0             0               0   \n",
       "194667                0             0             0               0   \n",
       "194669                0             0             0               0   \n",
       "194672                0             0             0               0   \n",
       "\n",
       "        ROADCOND_Sand/Mud/Dirt  ROADCOND_Wet  LIGHTCOND_Dawn  \\\n",
       "131508                       0             0               0   \n",
       "140884                       0             1               0   \n",
       "47519                        0             0               0   \n",
       "20972                        0             0               0   \n",
       "107251                       0             0               0   \n",
       "...                        ...           ...             ...   \n",
       "194664                       0             0               0   \n",
       "194665                       0             0               0   \n",
       "194667                       0             1               0   \n",
       "194669                       0             1               0   \n",
       "194672                       0             1               0   \n",
       "\n",
       "        LIGHTCOND_Daylight  LIGHTCOND_Dusk  LIGHTCOND_Other  \n",
       "131508                   0               0                0  \n",
       "140884                   0               0                0  \n",
       "47519                    1               0                0  \n",
       "20972                    1               0                0  \n",
       "107251                   1               0                0  \n",
       "...                    ...             ...              ...  \n",
       "194664                   1               0                0  \n",
       "194665                   1               0                0  \n",
       "194667                   0               0                0  \n",
       "194669                   1               0                0  \n",
       "194672                   1               0                0  \n",
       "\n",
       "[272970 rows x 40 columns]"
      ]
     },
     "execution_count": 647,
     "metadata": {},
     "output_type": "execute_result"
    }
   ],
   "source": [
    "df_over"
   ]
  },
  {
   "cell_type": "markdown",
   "metadata": {},
   "source": [
    "### Feature selection "
   ]
  },
  {
   "cell_type": "markdown",
   "metadata": {},
   "source": [
    "Setting the X and Y variables"
   ]
  },
  {
   "cell_type": "code",
   "execution_count": 648,
   "metadata": {},
   "outputs": [],
   "source": [
    "X=df.drop('SEVERITYCODE',axis=1)\n",
    "Y=df[['SEVERITYCODE']]"
   ]
  },
  {
   "cell_type": "markdown",
   "metadata": {},
   "source": [
    "Fitting random forest for feature selection"
   ]
  },
  {
   "cell_type": "code",
   "execution_count": 649,
   "metadata": {},
   "outputs": [],
   "source": [
    "clf = RandomForestClassifier(n_estimators=200, n_jobs=-1, random_state=42)\n",
    "clf.fit(X, Y)\n",
    "feat_importances = pd.Series(clf.feature_importances_, index=X.columns)"
   ]
  },
  {
   "cell_type": "code",
   "execution_count": 650,
   "metadata": {
    "scrolled": false
   },
   "outputs": [
    {
     "data": {
      "text/plain": [
       "COLLISIONTYPE_Parked Car            0.148409\n",
       "PERSONCOUNT                         0.127756\n",
       "PEDCOUNT                            0.091124\n",
       "VEHCOUNT                            0.060510\n",
       "COLLISIONTYPE_Pedestrian            0.060295\n",
       "COLLISIONTYPE_Cycles                0.059214\n",
       "PEDCYLCOUNT                         0.052438\n",
       "COLLISIONTYPE_Rear Ended            0.050025\n",
       "COLLISIONTYPE_Sideswipe             0.047218\n",
       "ADDRTYPE_Intersection               0.035995\n",
       "ADDRTYPE_Block                      0.023379\n",
       "PEDROWNOTGRNT                       0.020493\n",
       "LIGHTCOND_Daylight                  0.020470\n",
       "INATTENTIONIND                      0.018334\n",
       "ROADCOND_Other                      0.017527\n",
       "ROADCOND_Wet                        0.016545\n",
       "SPEEDING                            0.015764\n",
       "UNDERINFL                           0.015736\n",
       "COLLISIONTYPE_Other                 0.015708\n",
       "WEATHER_Unknown                     0.011841\n",
       "LIGHTCOND_Other                     0.009772\n",
       "LIGHTCOND_Dusk                      0.009326\n",
       "WEATHER_Clear                       0.008989\n",
       "WEATHER_Overcast                    0.008328\n",
       "COLLISIONTYPE_Left Turn             0.007350\n",
       "COLLISIONTYPE_Right Turn            0.006868\n",
       "WEATHER_Raining                     0.006791\n",
       "LIGHTCOND_Dawn                      0.006644\n",
       "HITPARKEDCAR                        0.006572\n",
       "COLLISIONTYPE_Head On               0.006554\n",
       "ROADCOND_Ice                        0.005305\n",
       "WEATHER_Fog/Smog/Smoke              0.002556\n",
       "WEATHER_Snowing                     0.002137\n",
       "WEATHER_Other                       0.001680\n",
       "WEATHER_Sleet/Hail/Freezing Rain    0.000695\n",
       "ROADCOND_Oil                        0.000682\n",
       "ROADCOND_Sand/Mud/Dirt              0.000609\n",
       "WEATHER_Severe Crosswind            0.000273\n",
       "WEATHER_Partly Cloudy               0.000091\n",
       "dtype: float64"
      ]
     },
     "execution_count": 650,
     "metadata": {},
     "output_type": "execute_result"
    }
   ],
   "source": [
    "feat_importances.sort_values(ascending=False)"
   ]
  },
  {
   "cell_type": "markdown",
   "metadata": {},
   "source": [
    "Take features where their importance > 0.01"
   ]
  },
  {
   "cell_type": "code",
   "execution_count": 651,
   "metadata": {
    "scrolled": false
   },
   "outputs": [
    {
     "data": {
      "text/plain": [
       "Index(['PERSONCOUNT', 'PEDCOUNT', 'PEDCYLCOUNT', 'VEHCOUNT', 'INATTENTIONIND',\n",
       "       'UNDERINFL', 'PEDROWNOTGRNT', 'SPEEDING', 'ADDRTYPE_Block',\n",
       "       'ADDRTYPE_Intersection', 'COLLISIONTYPE_Cycles', 'COLLISIONTYPE_Other',\n",
       "       'COLLISIONTYPE_Parked Car', 'COLLISIONTYPE_Pedestrian',\n",
       "       'COLLISIONTYPE_Rear Ended', 'COLLISIONTYPE_Sideswipe',\n",
       "       'WEATHER_Unknown', 'ROADCOND_Other', 'ROADCOND_Wet',\n",
       "       'LIGHTCOND_Daylight'],\n",
       "      dtype='object')"
      ]
     },
     "execution_count": 651,
     "metadata": {},
     "output_type": "execute_result"
    }
   ],
   "source": [
    "feat_importances[feat_importances>0.01].index"
   ]
  },
  {
   "cell_type": "markdown",
   "metadata": {},
   "source": [
    "Different Models to try and compare results with:"
   ]
  },
  {
   "cell_type": "code",
   "execution_count": 594,
   "metadata": {},
   "outputs": [],
   "source": [
    "# model=LogisticRegression(random_state=42)\n",
    "# model=KNeighborsClassifier(n_neighbors=3)\n",
    "# model=DecisionTreeClassifier(random_state=42)\n",
    "model=RandomForestClassifier(random_state=42)"
   ]
  },
  {
   "cell_type": "markdown",
   "metadata": {},
   "source": [
    "Adjusting the X variables to the final features set"
   ]
  },
  {
   "cell_type": "code",
   "execution_count": 599,
   "metadata": {},
   "outputs": [],
   "source": [
    "# Using the unbalanced dataframe\n",
    "X=df[['PERSONCOUNT', 'PEDCOUNT', 'PEDCYLCOUNT', 'VEHCOUNT', 'INATTENTIONIND',\n",
    "       'UNDERINFL', 'PEDROWNOTGRNT', 'SPEEDING', 'ADDRTYPE_Block',\n",
    "       'ADDRTYPE_Intersection', 'COLLISIONTYPE_Cycles', 'COLLISIONTYPE_Other',\n",
    "       'COLLISIONTYPE_Parked Car', 'COLLISIONTYPE_Pedestrian',\n",
    "       'COLLISIONTYPE_Rear Ended', 'COLLISIONTYPE_Sideswipe', 'WEATHER_Other',\n",
    "       'ROADCOND_Other', 'ROADCOND_Wet', 'LIGHTCOND_Daylight',\n",
    "       'LIGHTCOND_Other']]\n",
    "Y=df[['SEVERITYCODE']]\n",
    "\n",
    "\n",
    "# Using the undersampled dataframe\n",
    "# X=df_under[['PERSONCOUNT', 'PEDCOUNT', 'PEDCYLCOUNT', 'VEHCOUNT', 'INATTENTIONIND',\n",
    "#        'UNDERINFL', 'PEDROWNOTGRNT', 'SPEEDING', 'ADDRTYPE_Block',\n",
    "#        'ADDRTYPE_Intersection', 'COLLISIONTYPE_Cycles', 'COLLISIONTYPE_Other',\n",
    "#        'COLLISIONTYPE_Parked Car', 'COLLISIONTYPE_Pedestrian',\n",
    "#        'COLLISIONTYPE_Rear Ended', 'COLLISIONTYPE_Sideswipe', 'WEATHER_Other',\n",
    "#        'ROADCOND_Other', 'ROADCOND_Wet', 'LIGHTCOND_Daylight',\n",
    "#        'LIGHTCOND_Other']]\n",
    "# Y=df_under[['SEVERITYCODE']]\n",
    "\n",
    "\n",
    "# Using the oversampled dataframe\n",
    "# X=df_over[['PERSONCOUNT', 'PEDCOUNT', 'PEDCYLCOUNT', 'VEHCOUNT', 'INATTENTIONIND',\n",
    "#        'UNDERINFL', 'PEDROWNOTGRNT', 'SPEEDING', 'ADDRTYPE_Block',\n",
    "#        'ADDRTYPE_Intersection', 'COLLISIONTYPE_Cycles', 'COLLISIONTYPE_Other',\n",
    "#        'COLLISIONTYPE_Parked Car', 'COLLISIONTYPE_Pedestrian',\n",
    "#        'COLLISIONTYPE_Rear Ended', 'COLLISIONTYPE_Sideswipe', 'WEATHER_Other',\n",
    "#        'ROADCOND_Other', 'ROADCOND_Wet', 'LIGHTCOND_Daylight',\n",
    "#        'LIGHTCOND_Other']]\n",
    "# Y=df_over[['SEVERITYCODE']]"
   ]
  },
  {
   "cell_type": "markdown",
   "metadata": {},
   "source": [
    "Splitting data, fitting the model and printing the acuracy score of the model"
   ]
  },
  {
   "cell_type": "code",
   "execution_count": 600,
   "metadata": {},
   "outputs": [
    {
     "data": {
      "text/plain": [
       "0.702182505585152"
      ]
     },
     "execution_count": 600,
     "metadata": {},
     "output_type": "execute_result"
    }
   ],
   "source": [
    "X_train,X_test,y_train,y_test=train_test_split(X, Y, test_size=0.2, random_state=42)\n",
    "model.fit(X_train, y_train)\n",
    "model.score(X_test, y_test)"
   ]
  },
  {
   "cell_type": "markdown",
   "metadata": {},
   "source": [
    "Predicting test values, and calculating the AUC score"
   ]
  },
  {
   "cell_type": "code",
   "execution_count": 601,
   "metadata": {},
   "outputs": [
    {
     "data": {
      "text/plain": [
       "0.7828696167902449"
      ]
     },
     "execution_count": 601,
     "metadata": {},
     "output_type": "execute_result"
    }
   ],
   "source": [
    "y_pred=model.predict(X_test)\n",
    "y_scores=model.predict_proba(X_test)[:,1]\n",
    "roc_auc_score(y_test, y_scores)"
   ]
  },
  {
   "cell_type": "markdown",
   "metadata": {},
   "source": [
    "Printing the classification report"
   ]
  },
  {
   "cell_type": "code",
   "execution_count": 602,
   "metadata": {},
   "outputs": [
    {
     "name": "stdout",
     "output_type": "stream",
     "text": [
      "              precision    recall  f1-score   support\n",
      "\n",
      "           1       0.76      0.61      0.67     11795\n",
      "           2       0.67      0.80      0.73     11481\n",
      "\n",
      "    accuracy                           0.70     23276\n",
      "   macro avg       0.71      0.70      0.70     23276\n",
      "weighted avg       0.71      0.70      0.70     23276\n",
      "\n"
     ]
    }
   ],
   "source": [
    "from sklearn.metrics import classification_report\n",
    "print(classification_report(y_test, y_pred))"
   ]
  },
  {
   "cell_type": "markdown",
   "metadata": {},
   "source": [
    "Grid Search for the best model: Random Forest for undersampled"
   ]
  },
  {
   "cell_type": "code",
   "execution_count": 603,
   "metadata": {},
   "outputs": [],
   "source": [
    "X=df_under[['PERSONCOUNT', 'PEDCOUNT', 'PEDCYLCOUNT', 'VEHCOUNT', 'INATTENTIONIND',\n",
    "       'UNDERINFL', 'PEDROWNOTGRNT', 'SPEEDING', 'ADDRTYPE_Block',\n",
    "       'ADDRTYPE_Intersection', 'COLLISIONTYPE_Cycles', 'COLLISIONTYPE_Other',\n",
    "       'COLLISIONTYPE_Parked Car', 'COLLISIONTYPE_Pedestrian',\n",
    "       'COLLISIONTYPE_Rear Ended', 'COLLISIONTYPE_Sideswipe', 'WEATHER_Other',\n",
    "       'ROADCOND_Other', 'ROADCOND_Wet', 'LIGHTCOND_Daylight',\n",
    "       'LIGHTCOND_Other']]\n",
    "Y=df_under[['SEVERITYCODE']]\n"
   ]
  },
  {
   "cell_type": "code",
   "execution_count": 604,
   "metadata": {},
   "outputs": [],
   "source": [
    "rfc=RandomForestClassifier(random_state=42)\n",
    "X_train,X_test,y_train,y_test=train_test_split(X, Y, test_size=0.2, random_state=42)"
   ]
  },
  {
   "cell_type": "code",
   "execution_count": 605,
   "metadata": {},
   "outputs": [],
   "source": [
    "param_grid = { \n",
    "    'n_estimators': [200, 500],\n",
    "    'max_features': ['auto', 'sqrt', 'log2'],\n",
    "    'max_depth' : [4,5,6,7,8],\n",
    "    'criterion' :['gini', 'entropy']\n",
    "}"
   ]
  },
  {
   "cell_type": "code",
   "execution_count": 606,
   "metadata": {},
   "outputs": [
    {
     "data": {
      "text/plain": [
       "GridSearchCV(cv=5, error_score=nan,\n",
       "             estimator=RandomForestClassifier(bootstrap=True, ccp_alpha=0.0,\n",
       "                                              class_weight=None,\n",
       "                                              criterion='gini', max_depth=None,\n",
       "                                              max_features='auto',\n",
       "                                              max_leaf_nodes=None,\n",
       "                                              max_samples=None,\n",
       "                                              min_impurity_decrease=0.0,\n",
       "                                              min_impurity_split=None,\n",
       "                                              min_samples_leaf=1,\n",
       "                                              min_samples_split=2,\n",
       "                                              min_weight_fraction_leaf=0.0,\n",
       "                                              n_estimators=100, n_jobs=None,\n",
       "                                              oob_score=False, random_state=42,\n",
       "                                              verbose=0, warm_start=False),\n",
       "             iid='deprecated', n_jobs=None,\n",
       "             param_grid={'criterion': ['gini', 'entropy'],\n",
       "                         'max_depth': [4, 5, 6, 7, 8],\n",
       "                         'max_features': ['auto', 'sqrt', 'log2'],\n",
       "                         'n_estimators': [200, 500]},\n",
       "             pre_dispatch='2*n_jobs', refit=True, return_train_score=False,\n",
       "             scoring=None, verbose=0)"
      ]
     },
     "execution_count": 606,
     "metadata": {},
     "output_type": "execute_result"
    }
   ],
   "source": [
    "from sklearn.model_selection import GridSearchCV\n",
    "# CV_rfc = GridSearchCV(estimator=rfc, param_grid=param_grid, cv= 5)\n",
    "# CV_rfc.fit(X_train, y_train)"
   ]
  },
  {
   "cell_type": "code",
   "execution_count": 607,
   "metadata": {
    "scrolled": false
   },
   "outputs": [
    {
     "data": {
      "text/plain": [
       "{'criterion': 'gini',\n",
       " 'max_depth': 8,\n",
       " 'max_features': 'auto',\n",
       " 'n_estimators': 500}"
      ]
     },
     "execution_count": 607,
     "metadata": {},
     "output_type": "execute_result"
    }
   ],
   "source": [
    "CV_rfc.best_params_"
   ]
  },
  {
   "cell_type": "markdown",
   "metadata": {},
   "source": [
    "### Final Model fitting"
   ]
  },
  {
   "cell_type": "code",
   "execution_count": 609,
   "metadata": {},
   "outputs": [],
   "source": [
    "rf=RandomForestClassifier(criterion= 'gini', max_depth= 8, max_features= 'auto', n_estimators= 500)"
   ]
  },
  {
   "cell_type": "code",
   "execution_count": 610,
   "metadata": {},
   "outputs": [
    {
     "data": {
      "text/plain": [
       "0.7044595291287162"
      ]
     },
     "execution_count": 610,
     "metadata": {},
     "output_type": "execute_result"
    }
   ],
   "source": [
    "X_train,X_test,y_train,y_test=train_test_split(X, Y, test_size=0.2, random_state=42)\n",
    "rf.fit(X_train, y_train)\n",
    "rf.score(X_test, y_test)"
   ]
  },
  {
   "cell_type": "code",
   "execution_count": 611,
   "metadata": {},
   "outputs": [
    {
     "data": {
      "text/plain": [
       "0.7876767923589701"
      ]
     },
     "execution_count": 611,
     "metadata": {},
     "output_type": "execute_result"
    }
   ],
   "source": [
    "y_pred=rf.predict(X_test)\n",
    "y_scores=rf.predict_proba(X_test)[:,1]\n",
    "roc_auc_score(y_test, y_scores)"
   ]
  },
  {
   "cell_type": "code",
   "execution_count": 612,
   "metadata": {},
   "outputs": [
    {
     "name": "stdout",
     "output_type": "stream",
     "text": [
      "              precision    recall  f1-score   support\n",
      "\n",
      "           1       0.75      0.62      0.68     11795\n",
      "           2       0.67      0.79      0.73     11481\n",
      "\n",
      "    accuracy                           0.70     23276\n",
      "   macro avg       0.71      0.71      0.70     23276\n",
      "weighted avg       0.71      0.70      0.70     23276\n",
      "\n"
     ]
    }
   ],
   "source": [
    "print(classification_report(y_test, y_pred))"
   ]
  },
  {
   "cell_type": "code",
   "execution_count": null,
   "metadata": {},
   "outputs": [],
   "source": []
  }
 ],
 "metadata": {
  "kernelspec": {
   "display_name": "Python 3",
   "language": "python",
   "name": "python3"
  },
  "language_info": {
   "codemirror_mode": {
    "name": "ipython",
    "version": 3
   },
   "file_extension": ".py",
   "mimetype": "text/x-python",
   "name": "python",
   "nbconvert_exporter": "python",
   "pygments_lexer": "ipython3",
   "version": "3.6.3"
  }
 },
 "nbformat": 4,
 "nbformat_minor": 4
}
